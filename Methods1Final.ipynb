{
 "cells": [
  {
   "cell_type": "code",
   "execution_count": 107,
   "metadata": {},
   "outputs": [],
   "source": [
    "# Part 1"
   ]
  },
  {
   "cell_type": "code",
   "execution_count": 108,
   "metadata": {},
   "outputs": [],
   "source": [
    "import re"
   ]
  },
  {
   "cell_type": "code",
   "execution_count": 111,
   "metadata": {},
   "outputs": [
    {
     "name": "stdout",
     "output_type": "stream",
     "text": [
      "talk\n",
      "bought\n",
      "auto\n",
      "dawn\n",
      "taught\n",
      "caught\n",
      "caught\n",
      "dawn\n",
      "talk\n",
      "dawn\n"
     ]
    }
   ],
   "source": [
    "wordlist = [i.rstrip() for i in open('wordlist3.txt', 'r').readlines()]\n",
    "LISTNAME=[]\n",
    "for ThoughtVowels in wordlist:\n",
    "        thought1 = re.search(r\"(caught)\", ThoughtVowels)\n",
    "        thought2 = re.search(r\"(taught)\", ThoughtVowels)\n",
    "        thought3 = re.search(r\"(talk$)\", ThoughtVowels)\n",
    "        thought4 = re.search(r\"(dawn$)\", ThoughtVowels)\n",
    "        thought5 = re.search(r\"(bought)\", ThoughtVowels)\n",
    "        thought6 = re.search(r\"(^auto$)\", ThoughtVowels)\n",
    "        if thought1 or thought2 or thought3 or thought4 or thought5 or thought6:\n",
    "            print(ThoughtVowels)\n",
    "            LISTNAME.append(ThoughtVowels)"
   ]
  },
  {
   "cell_type": "code",
   "execution_count": 112,
   "metadata": {},
   "outputs": [
    {
     "data": {
      "text/plain": [
       "2"
      ]
     },
     "execution_count": 112,
     "metadata": {},
     "output_type": "execute_result"
    }
   ],
   "source": [
    "LISTNAME.count(\"talk\")"
   ]
  },
  {
   "cell_type": "code",
   "execution_count": 113,
   "metadata": {},
   "outputs": [
    {
     "data": {
      "text/plain": [
       "1"
      ]
     },
     "execution_count": 113,
     "metadata": {},
     "output_type": "execute_result"
    }
   ],
   "source": [
    "LISTNAME.count(\"bought\")"
   ]
  },
  {
   "cell_type": "code",
   "execution_count": 114,
   "metadata": {},
   "outputs": [
    {
     "data": {
      "text/plain": [
       "1"
      ]
     },
     "execution_count": 114,
     "metadata": {},
     "output_type": "execute_result"
    }
   ],
   "source": [
    "LISTNAME.count(\"auto\")"
   ]
  },
  {
   "cell_type": "code",
   "execution_count": 115,
   "metadata": {},
   "outputs": [
    {
     "data": {
      "text/plain": [
       "3"
      ]
     },
     "execution_count": 115,
     "metadata": {},
     "output_type": "execute_result"
    }
   ],
   "source": [
    "LISTNAME.count(\"dawn\")"
   ]
  },
  {
   "cell_type": "code",
   "execution_count": 116,
   "metadata": {
    "scrolled": true
   },
   "outputs": [
    {
     "data": {
      "text/plain": [
       "1"
      ]
     },
     "execution_count": 116,
     "metadata": {},
     "output_type": "execute_result"
    }
   ],
   "source": [
    "LISTNAME.count(\"taught\")"
   ]
  },
  {
   "cell_type": "code",
   "execution_count": 117,
   "metadata": {},
   "outputs": [
    {
     "data": {
      "text/plain": [
       "2"
      ]
     },
     "execution_count": 117,
     "metadata": {},
     "output_type": "execute_result"
    }
   ],
   "source": [
    "LISTNAME.count(\"caught\")"
   ]
  },
  {
   "cell_type": "code",
   "execution_count": 118,
   "metadata": {},
   "outputs": [],
   "source": [
    "assert LISTNAME.count(\"caught\") == 2"
   ]
  },
  {
   "cell_type": "code",
   "execution_count": 119,
   "metadata": {},
   "outputs": [],
   "source": [
    "assert LISTNAME.count(\"dawn\") == 3"
   ]
  },
  {
   "cell_type": "code",
   "execution_count": null,
   "metadata": {},
   "outputs": [],
   "source": []
  },
  {
   "cell_type": "code",
   "execution_count": 120,
   "metadata": {},
   "outputs": [],
   "source": [
    "# Part 2"
   ]
  },
  {
   "cell_type": "code",
   "execution_count": 121,
   "metadata": {},
   "outputs": [
    {
     "name": "stdout",
     "output_type": "stream",
     "text": [
      "cot\n",
      "bot\n",
      "tock\n",
      "otto\n",
      "don\n",
      "bot\n",
      "otto\n",
      "don\n",
      "tock\n",
      "bot\n",
      "cot\n",
      "tot\n"
     ]
    }
   ],
   "source": [
    "wordlist = [i.rstrip() for i in open('wordlist3.txt', 'r').readlines()]\n",
    "LISTNAME=[]\n",
    "for LotVowels in wordlist:\n",
    "        lot1 = re.search(r\"(^cot$)\", LotVowels)\n",
    "        lot2 = re.search(r\"(^tot$)\", LotVowels)\n",
    "        lot3 = re.search(r\"(^bot$)\", LotVowels)\n",
    "        lot4 = re.search(r\"(^tock$)\", LotVowels)\n",
    "        lot5 = re.search(r\"(^don$)\", LotVowels)\n",
    "        lot6 = re.search(r\"(^otto$)\", LotVowels)\n",
    "        if lot1 or lot2 or lot3 or lot4 or lot5 or lot6:\n",
    "            print(LotVowels)\n",
    "            LISTNAME.append(LotVowels)"
   ]
  },
  {
   "cell_type": "code",
   "execution_count": 122,
   "metadata": {},
   "outputs": [
    {
     "data": {
      "text/plain": [
       "2"
      ]
     },
     "execution_count": 122,
     "metadata": {},
     "output_type": "execute_result"
    }
   ],
   "source": [
    "LISTNAME.count(\"cot\")"
   ]
  },
  {
   "cell_type": "code",
   "execution_count": 123,
   "metadata": {},
   "outputs": [
    {
     "data": {
      "text/plain": [
       "1"
      ]
     },
     "execution_count": 123,
     "metadata": {},
     "output_type": "execute_result"
    }
   ],
   "source": [
    "LISTNAME.count(\"tot\")"
   ]
  },
  {
   "cell_type": "code",
   "execution_count": 124,
   "metadata": {},
   "outputs": [
    {
     "data": {
      "text/plain": [
       "3"
      ]
     },
     "execution_count": 124,
     "metadata": {},
     "output_type": "execute_result"
    }
   ],
   "source": [
    "LISTNAME.count(\"bot\")"
   ]
  },
  {
   "cell_type": "code",
   "execution_count": 125,
   "metadata": {},
   "outputs": [
    {
     "data": {
      "text/plain": [
       "2"
      ]
     },
     "execution_count": 125,
     "metadata": {},
     "output_type": "execute_result"
    }
   ],
   "source": [
    "LISTNAME.count(\"tock\")"
   ]
  },
  {
   "cell_type": "code",
   "execution_count": 126,
   "metadata": {},
   "outputs": [
    {
     "data": {
      "text/plain": [
       "2"
      ]
     },
     "execution_count": 126,
     "metadata": {},
     "output_type": "execute_result"
    }
   ],
   "source": [
    "LISTNAME.count(\"don\")"
   ]
  },
  {
   "cell_type": "code",
   "execution_count": 127,
   "metadata": {},
   "outputs": [
    {
     "data": {
      "text/plain": [
       "2"
      ]
     },
     "execution_count": 127,
     "metadata": {},
     "output_type": "execute_result"
    }
   ],
   "source": [
    "LISTNAME.count(\"otto\")"
   ]
  },
  {
   "cell_type": "code",
   "execution_count": 128,
   "metadata": {},
   "outputs": [],
   "source": [
    "assert LISTNAME.count(\"otto\") == 2"
   ]
  },
  {
   "cell_type": "code",
   "execution_count": 129,
   "metadata": {},
   "outputs": [],
   "source": [
    "assert LISTNAME.count(\"bot\") == 3"
   ]
  },
  {
   "cell_type": "code",
   "execution_count": null,
   "metadata": {},
   "outputs": [],
   "source": []
  },
  {
   "cell_type": "code",
   "execution_count": 130,
   "metadata": {},
   "outputs": [],
   "source": [
    "# Part 3"
   ]
  },
  {
   "cell_type": "code",
   "execution_count": 131,
   "metadata": {},
   "outputs": [],
   "source": [
    "wordlist = \"\"\"test\n",
    "talk\n",
    "bought\n",
    "auto\n",
    "dawn\n",
    "test\n",
    "with\n",
    "taught\n",
    "other\n",
    "words\n",
    "caught\n",
    "to\n",
    "make\n",
    "sure\n",
    "they\n",
    "don’t\n",
    "print\n",
    "cot\n",
    "bot\n",
    "tock\n",
    "otto\n",
    "don\n",
    "bot\n",
    "caught\n",
    "dawn\n",
    "otto\n",
    "don\n",
    "date\n",
    "tock\n",
    "cotton\n",
    "abandon\n",
    "ottoman\n",
    "bottom\n",
    "buttock\n",
    "apricot\n",
    "bot\n",
    "robot\n",
    "cot\n",
    "tot\n",
    "talk\n",
    "totality\n",
    "are\n",
    "examples\n",
    "distraught \n",
    "ball\n",
    "alarm\n",
    "automobile\n",
    "dawning\n",
    "talkative\n",
    "words\n",
    "dawn\n",
    "words\n",
    "semiauto\n",
    "\"\"\""
   ]
  },
  {
   "cell_type": "code",
   "execution_count": 132,
   "metadata": {},
   "outputs": [
    {
     "name": "stdout",
     "output_type": "stream",
     "text": [
      "The total number of words in this list are: 53\n",
      "The word 'potato' occurs: 0\n"
     ]
    }
   ],
   "source": [
    "total = wordlist.split()\n",
    "print (\"The total number of words in this list are: \"  + str(len(total)))\n",
    "print (\"The word 'potato' occurs: \" + str(total.count(\"potato\")))"
   ]
  },
  {
   "cell_type": "code",
   "execution_count": 133,
   "metadata": {},
   "outputs": [
    {
     "name": "stdout",
     "output_type": "stream",
     "text": [
      "The total number of words in this list are: 53\n",
      "The token word 'caught' occurs: 2\n"
     ]
    }
   ],
   "source": [
    "total = wordlist.split()\n",
    "print (\"The total number of words in this list are: \"  + str(len(total)))\n",
    "print (\"The token word 'caught' occurs: \" + str(total.count(\"caught\")))"
   ]
  },
  {
   "cell_type": "code",
   "execution_count": null,
   "metadata": {},
   "outputs": [],
   "source": []
  },
  {
   "cell_type": "code",
   "execution_count": 134,
   "metadata": {},
   "outputs": [],
   "source": [
    "# part 4"
   ]
  },
  {
   "cell_type": "code",
   "execution_count": 135,
   "metadata": {},
   "outputs": [
    {
     "name": "stdout",
     "output_type": "stream",
     "text": [
      "cot\n",
      "bot\n",
      "tock\n",
      "otto\n",
      "don\n",
      "bot\n",
      "otto\n",
      "don\n",
      "tock\n",
      "bot\n",
      "cot\n",
      "tot\n"
     ]
    }
   ],
   "source": [
    "with open(\"test1.txt\", \"r\") as source:\n",
    "    for line in source:\n",
    "        LotVowels = re.search(r\"^cot$|^tot$|^bot$|^tock$|^don$|^otto$\",\n",
    "                     line)\n",
    "        if LotVowels:\n",
    "            print(line.rstrip())"
   ]
  },
  {
   "cell_type": "code",
   "execution_count": null,
   "metadata": {},
   "outputs": [],
   "source": []
  },
  {
   "cell_type": "code",
   "execution_count": null,
   "metadata": {},
   "outputs": [],
   "source": []
  },
  {
   "cell_type": "code",
   "execution_count": null,
   "metadata": {},
   "outputs": [],
   "source": []
  },
  {
   "cell_type": "code",
   "execution_count": null,
   "metadata": {},
   "outputs": [],
   "source": []
  }
 ],
 "metadata": {
  "kernelspec": {
   "display_name": "Python 3",
   "language": "python",
   "name": "python3"
  },
  "language_info": {
   "codemirror_mode": {
    "name": "ipython",
    "version": 3
   },
   "file_extension": ".py",
   "mimetype": "text/x-python",
   "name": "python",
   "nbconvert_exporter": "python",
   "pygments_lexer": "ipython3",
   "version": "3.7.3"
  }
 },
 "nbformat": 4,
 "nbformat_minor": 2
}
